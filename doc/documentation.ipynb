{
 "cells": [
  {
   "cell_type": "markdown",
   "source": [
    "# Adamnite Code Documentation"
   ],
   "metadata": {
    "collapsed": false,
    "pycharm": {
     "name": "#%% md\n"
    }
   }
  },
  {
   "cell_type": "markdown",
   "source": [
    "This Notebook explains the code and gives some examples on usage.\n",
    "This should give new Developers of this Repo a good overview.\n",
    "This entire software is written in an async. This avoids\n",
    "creating threads and running into race conditions. Events and tasks\n",
    "are automatically scheduled on the event loop. They yield from\n",
    "time to time to let other tasks run also. It looks like\n",
    "it is multithreading, but in reality it jumps back and forth depending\n",
    "on which events need the attention of the eventloop."
   ],
   "metadata": {
    "collapsed": false,
    "pycharm": {
     "name": "#%% md\n"
    }
   }
  },
  {
   "cell_type": "markdown",
   "source": [
    "# Entry Point"
   ],
   "metadata": {
    "collapsed": false,
    "pycharm": {
     "name": "#%% md\n"
    }
   }
  },
  {
   "cell_type": "markdown",
   "source": [
    "\n",
    "Node is the main Class in this application. With OOP composition it\n",
    "contains all the submodules that this cryptocurrency needs.\n",
    "1. block_chain\n",
    "2. peers\n",
    "3. wallet"
   ],
   "metadata": {
    "collapsed": false,
    "pycharm": {
     "name": "#%% md\n"
    }
   }
  },
  {
   "cell_type": "code",
   "execution_count": null,
   "outputs": [],
   "source": [
    "from adamnite.node import Node\n",
    "import asyncio\n",
    "\n",
    "node = Node(port=6101)\n",
    "loop = asyncio.get_event_loop()\n",
    "loop.create_task(node.start_serving())\n",
    "loop.run_forever()"
   ],
   "metadata": {
    "collapsed": false,
    "pycharm": {
     "name": "#%%\n",
     "is_executing": true
    }
   }
  },
  {
   "cell_type": "markdown",
   "source": [
    "It controls all the communication outgoing and delegates tasks to the blockchain\n",
    "when requested. Sockets with peers usually stay open and they communicate in\n",
    "both ways."
   ],
   "metadata": {
    "collapsed": false,
    "pycharm": {
     "name": "#%% md\n"
    }
   }
  },
  {
   "cell_type": "markdown",
   "source": [
    "# Block Chain"
   ],
   "metadata": {
    "collapsed": false,
    "pycharm": {
     "name": "#%% md\n"
    }
   }
  },
  {
   "cell_type": "markdown",
   "source": [
    "The blockchain manages as it implies the blockchain.\n",
    "It appends new block's with the append method and validates\n",
    "it or rejects it, if it is found invalid."
   ],
   "metadata": {
    "collapsed": false,
    "pycharm": {
     "name": "#%% md\n"
    }
   }
  },
  {
   "cell_type": "code",
   "execution_count": null,
   "outputs": [],
   "source": [
    "from adamnite.account import PrivateAccount\n",
    "from adamnite.blockchain import BlockChain\n",
    "from adamnite.genesis import GENESIS_BLOCK\n",
    "\n",
    "block = GENESIS_BLOCK\n",
    "private_Account = PrivateAccount()\n",
    "block_chain = BlockChain(proposer=private_Account)\n",
    "block_chain.append(block)"
   ],
   "metadata": {
    "collapsed": false,
    "pycharm": {
     "name": "#%%\n"
    }
   }
  },
  {
   "cell_type": "markdown",
   "source": [
    "The proposer is the private account that is managing this blockchain.\n",
    "It proposes new blocks, if the consensus algo allows for it."
   ],
   "metadata": {
    "collapsed": false,
    "pycharm": {
     "name": "#%% md\n"
    }
   }
  },
  {
   "cell_type": "markdown",
   "source": [
    "Adamnite is an account based blockchain. To keep track of all the balances\n",
    "the blockchain module keeps a dictionary with all the wallets and their\n",
    "balances. It tracks double spending with the nonce. The amount an account has\n",
    "made transactions, to avoid relay attacks."
   ],
   "metadata": {
    "collapsed": false,
    "pycharm": {
     "name": "#%% md\n"
    }
   }
  },
  {
   "cell_type": "code",
   "execution_count": null,
   "outputs": [],
   "source": [
    "block_chain.accounts\n",
    "block_chain.nonce"
   ],
   "metadata": {
    "collapsed": false,
    "pycharm": {
     "name": "#%%\n"
    }
   }
  },
  {
   "cell_type": "markdown",
   "source": [
    "# Accounts"
   ],
   "metadata": {
    "collapsed": false,
    "pycharm": {
     "name": "#%% md\n"
    }
   }
  },
  {
   "cell_type": "markdown",
   "source": [
    "There are 2 types of accounts. Private and Public Accounts.\n",
    "The private Accounts contains the private key and are stored in memory\n",
    "or in the os keyring for safekeeping. Private Accounts are needed to sign\n",
    "transactions or propose new blocks. The private key is needed to sign them\n",
    "off. Others can validate with the public key, that you in fact know the private\n",
    "key."
   ],
   "metadata": {
    "collapsed": false,
    "pycharm": {
     "name": "#%% md\n"
    }
   }
  },
  {
   "cell_type": "markdown",
   "source": [
    "Creates a new Account with new private and public key with os.urandom"
   ],
   "metadata": {
    "collapsed": false,
    "pycharm": {
     "name": "#%% md\n"
    }
   }
  },
  {
   "cell_type": "code",
   "execution_count": null,
   "outputs": [],
   "source": [
    "private_account = PrivateAccount()"
   ],
   "metadata": {
    "collapsed": false,
    "pycharm": {
     "name": "#%%\n"
    }
   }
  },
  {
   "cell_type": "markdown",
   "source": [
    "Public Accounts are derived from Private or from addresses,"
   ],
   "metadata": {
    "collapsed": false,
    "pycharm": {
     "name": "#%% md\n"
    }
   }
  },
  {
   "cell_type": "code",
   "execution_count": null,
   "outputs": [],
   "source": [
    "from adamnite.account import PublicAccount\n",
    "\n",
    "public_account = PublicAccount(\n",
    "    address=b'uD4YLvrYBNrBMtU7pysMMUkoXMNo4f4xstz1PzuBzhNK'\n",
    ")\n",
    "public_account2 = private_account.public_account()"
   ],
   "metadata": {
    "collapsed": false,
    "pycharm": {
     "name": "#%%\n"
    }
   }
  },
  {
   "cell_type": "markdown",
   "source": [
    "# Wallet"
   ],
   "metadata": {
    "collapsed": false,
    "pycharm": {
     "name": "#%% md\n"
    }
   }
  },
  {
   "cell_type": "markdown",
   "source": [
    "Wallets is a static class that holds all the accounts for the node\n",
    "the software is running. It stores them in the os keyring. It stays persistent."
   ],
   "metadata": {
    "collapsed": false,
    "pycharm": {
     "name": "#%% md\n"
    }
   }
  },
  {
   "cell_type": "code",
   "execution_count": null,
   "outputs": [],
   "source": [
    "from adamnite.account import Wallet\n",
    "\n",
    "private_account = Wallet.accounts[0]"
   ],
   "metadata": {
    "collapsed": false,
    "pycharm": {
     "name": "#%%\n"
    }
   }
  },
  {
   "cell_type": "markdown",
   "source": [
    "# Serialisation"
   ],
   "metadata": {
    "collapsed": false,
    "pycharm": {
     "name": "#%% md\n"
    }
   }
  },
  {
   "cell_type": "markdown",
   "source": [
    "Serialisation is one of the most important aspects of this cryptocurrency.\n",
    "It serialises python class objects into a series of bytes. Other\n",
    "participants in the network can convert them back to python objects and use\n",
    "them. It closely follows ETH serialisation but expands it into nested classes."
   ],
   "metadata": {
    "collapsed": false,
    "pycharm": {
     "name": "#%% md\n"
    }
   }
  },
  {
   "cell_type": "code",
   "execution_count": null,
   "outputs": [],
   "source": [
    "from adamnite.serialization import serialize, deserialize\n",
    "import time\n",
    "\n",
    "\n",
    "class CustomClass:\n",
    "    class NestedClass:\n",
    "        list = [1, 2, 3, 4]\n",
    "    string = \"string\"\n",
    "    number = 123\n",
    "    list = [\"list0\", \"list1\", \"list2\"]\n",
    "    tuple = (\"string\", \"string\", \"string2\")\n",
    "    timestamp = int(time.time())\n",
    "    bytes = b\"12345\"\n",
    "    string2 = \"string2\"\n",
    "    nested = [NestedClass(), NestedClass()]\n",
    "\n",
    "custom_class_bytes = serialize(CustomClass)\n",
    "restored_custom_class, read = deserialize(\n",
    "    custom_class_bytes,\n",
    "    to=CustomClass\n",
    ")"
   ],
   "metadata": {
    "collapsed": false,
    "pycharm": {
     "name": "#%%\n"
    }
   }
  },
  {
   "cell_type": "markdown",
   "source": [
    "# Messages"
   ],
   "metadata": {
    "collapsed": false,
    "pycharm": {
     "name": "#%% md\n"
    }
   }
  },
  {
   "cell_type": "markdown",
   "source": [
    "Messages are split into Requests and Responses.\n",
    "Requests indicate to a node that a Resource is requested and that the peer\n",
    "should send it to him."
   ],
   "metadata": {
    "collapsed": false,
    "pycharm": {
     "name": "#%% md\n"
    }
   }
  },
  {
   "cell_type": "markdown",
   "source": [
    "## Request\n",
    "Blocks with the height 2, 3, 4, 5"
   ],
   "metadata": {
    "collapsed": false,
    "pycharm": {
     "name": "#%% md\n"
    }
   }
  },
  {
   "cell_type": "code",
   "execution_count": null,
   "outputs": [],
   "source": [
    "from adamnite.message import Request, BLOCKS\n",
    "\n",
    "message = Request(\n",
    "    resource=BLOCKS,\n",
    "    query=(2, 3, 4, 5)\n",
    ")"
   ],
   "metadata": {
    "collapsed": false,
    "pycharm": {
     "name": "#%%\n",
     "is_executing": true
    }
   }
  },
  {
   "cell_type": "markdown",
   "source": [
    "## Respond"
   ],
   "metadata": {
    "collapsed": false,
    "pycharm": {
     "name": "#%% md\n"
    }
   }
  },
  {
   "cell_type": "code",
   "execution_count": null,
   "outputs": [],
   "source": [
    "from adamnite.message import Response\n",
    "\n",
    "blocks = [GENESIS_BLOCK, GENESIS_BLOCK, GENESIS_BLOCK]\n",
    "respond = Response(\n",
    "    payload=blocks\n",
    ")"
   ],
   "metadata": {
    "collapsed": false,
    "pycharm": {
     "name": "#%%\n"
    }
   }
  },
  {
   "cell_type": "markdown",
   "source": [
    "Messages are serialized and send on the wire. The peer will read them\n",
    "and respond with the requested resources."
   ],
   "metadata": {
    "collapsed": false,
    "pycharm": {
     "name": "#%% md\n"
    }
   }
  },
  {
   "cell_type": "code",
   "execution_count": null,
   "outputs": [],
   "source": [],
   "metadata": {
    "collapsed": false,
    "pycharm": {
     "name": "#%%\n"
    }
   }
  }
 ],
 "metadata": {
  "kernelspec": {
   "display_name": "Python 3",
   "language": "python",
   "name": "python3"
  },
  "language_info": {
   "codemirror_mode": {
    "name": "ipython",
    "version": 2
   },
   "file_extension": ".py",
   "mimetype": "text/x-python",
   "name": "python",
   "nbconvert_exporter": "python",
   "pygments_lexer": "ipython2",
   "version": "2.7.6"
  }
 },
 "nbformat": 4,
 "nbformat_minor": 0
}